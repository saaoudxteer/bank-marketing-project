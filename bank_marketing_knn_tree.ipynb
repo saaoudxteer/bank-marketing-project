{
 "cells": [
  {
   "cell_type": "markdown",
   "id": "b83116cf",
   "metadata": {},
   "source": [
    "## 📊 Choix du jeu de données\n",
    "\n",
    "Dans le cadre de ce projet, plusieurs jeux de données étaient disponibles :\n",
    "\n",
    "- `bank.csv` et `bank-full.csv` : versions issues de l’article de Moro et al. (2011), contenant 17 variables, sans contexte socio-économique.\n",
    "- `bank-additional.csv` et `bank-additional-full.csv` : versions plus récentes, associées à l’article de Moro, Cortez & Rita (2014), intégrant des variables macro-économiques supplémentaires.\n",
    "\n",
    "### ✅ Jeu de données utilisé : `bank-additional-full.csv`\n",
    "\n",
    "Ce dataset contient **41 188 observations** et **20 variables explicatives** + 1 variable cible (`y`). Il est enrichi de données économiques telles que :\n",
    "- `emp.var.rate` : taux de variation de l'emploi\n",
    "- `euribor3m` : taux Euribor à 3 mois\n",
    "- `nr.employed` : nombre d’employés\n",
    "\n",
    "### 🎯 Raisons de ce choix\n",
    "\n",
    "| Critère                  | Justification |\n",
    "|--------------------------|---------------|\n",
    "| **Pertinence scientifique** | Ce jeu est utilisé dans l’article de référence [Moro et al., 2014], mentionné dans l’énoncé du projet. |\n",
    "| **Richesse des données**    | Présence de variables socio-économiques qui améliorent la qualité prédictive des modèles. |\n",
    "| **Taille suffisante**       | Permet un apprentissage fiable pour des modèles comme KNN ou arbre de décision. |\n",
    "| **Fiabilité**               | Jeu de données bien documenté, sans valeurs manquantes, avec un format structuré. |\n",
    "\n",
    "> 🔍 *Conclusion :* ce dataset est le plus adapté pour répondre à l’objectif du projet, à savoir prédire de manière réaliste si un client souscrit à un dépôt à terme à partir des données issues de campagnes de télémarketing.\n",
    "\n"
   ]
  },
  {
   "cell_type": "markdown",
   "id": "f132637a",
   "metadata": {},
   "source": [
    "## 🧾 Description des variables (bank-additional-full.csv)\n",
    "\n",
    "| Variable           | Description courte                   |\n",
    "|--------------------|---------------------------------------|\n",
    "| **age**            | Âge du client                         |\n",
    "| **job**            | Métier du client                      |\n",
    "| **marital**        | Situation matrimoniale                |\n",
    "| **education**      | Niveau d’éducation                    |\n",
    "| **default**        | Crédit en défaut                      |\n",
    "| **housing**        | Prêt immobilier                       |\n",
    "| **loan**           | Prêt personnel                        |\n",
    "| **contact**        | Type de contact                       |\n",
    "| **month**          | Mois du dernier contact               |\n",
    "| **day_of_week**    | Jour du dernier contact               |\n",
    "| **duration**       | Durée de l’appel (en secondes)        |\n",
    "| **campaign**       | Nb d'appels durant la campagne        |\n",
    "| **pdays**          | Jours depuis dernier contact          |\n",
    "| **previous**       | Nb d’anciens contacts                 |\n",
    "| **poutcome**       | Résultat de la campagne précédente    |\n",
    "| **emp.var.rate**   | Variation taux d'emploi (éco)         |\n",
    "| **cons.price.idx** | Indice des prix (conso)               |\n",
    "| **cons.conf.idx**  | Indice de confiance (conso)           |\n",
    "| **euribor3m**      | Taux Euribor 3 mois                   |\n",
    "| **nr.employed**    | Nombre de salariés (éco)              |\n",
    "| **y**              | Souscription dépôt à terme (cible)    |\n"
   ]
  },
  {
   "cell_type": "code",
   "execution_count": 64,
   "id": "5192ada1",
   "metadata": {},
   "outputs": [],
   "source": [
    "import pandas as pd\n",
    "import matplotlib.pyplot as plt\n",
    "import seaborn as sns\n",
    "import numpy as np\n",
    "from scipy.stats import zscore"
   ]
  },
  {
   "cell_type": "code",
   "execution_count": 65,
   "id": "66789247",
   "metadata": {},
   "outputs": [
    {
     "name": "stdout",
     "output_type": "stream",
     "text": [
      "<class 'pandas.core.frame.DataFrame'>\n",
      "RangeIndex: 41188 entries, 0 to 41187\n",
      "Data columns (total 21 columns):\n",
      " #   Column          Non-Null Count  Dtype  \n",
      "---  ------          --------------  -----  \n",
      " 0   age             41188 non-null  int64  \n",
      " 1   job             41188 non-null  object \n",
      " 2   marital         41188 non-null  object \n",
      " 3   education       41188 non-null  object \n",
      " 4   default         41188 non-null  object \n",
      " 5   housing         41188 non-null  object \n",
      " 6   loan            41188 non-null  object \n",
      " 7   contact         41188 non-null  object \n",
      " 8   month           41188 non-null  object \n",
      " 9   day_of_week     41188 non-null  object \n",
      " 10  duration        41188 non-null  int64  \n",
      " 11  campaign        41188 non-null  int64  \n",
      " 12  pdays           41188 non-null  int64  \n",
      " 13  previous        41188 non-null  int64  \n",
      " 14  poutcome        41188 non-null  object \n",
      " 15  emp.var.rate    41188 non-null  float64\n",
      " 16  cons.price.idx  41188 non-null  float64\n",
      " 17  cons.conf.idx   41188 non-null  float64\n",
      " 18  euribor3m       41188 non-null  float64\n",
      " 19  nr.employed     41188 non-null  float64\n",
      " 20  y               41188 non-null  object \n",
      "dtypes: float64(5), int64(5), object(11)\n",
      "memory usage: 6.6+ MB\n"
     ]
    },
    {
     "data": {
      "text/html": [
       "<div>\n",
       "<style scoped>\n",
       "    .dataframe tbody tr th:only-of-type {\n",
       "        vertical-align: middle;\n",
       "    }\n",
       "\n",
       "    .dataframe tbody tr th {\n",
       "        vertical-align: top;\n",
       "    }\n",
       "\n",
       "    .dataframe thead th {\n",
       "        text-align: right;\n",
       "    }\n",
       "</style>\n",
       "<table border=\"1\" class=\"dataframe\">\n",
       "  <thead>\n",
       "    <tr style=\"text-align: right;\">\n",
       "      <th></th>\n",
       "      <th>age</th>\n",
       "      <th>job</th>\n",
       "      <th>marital</th>\n",
       "      <th>education</th>\n",
       "      <th>default</th>\n",
       "      <th>housing</th>\n",
       "      <th>loan</th>\n",
       "      <th>contact</th>\n",
       "      <th>month</th>\n",
       "      <th>day_of_week</th>\n",
       "      <th>...</th>\n",
       "      <th>campaign</th>\n",
       "      <th>pdays</th>\n",
       "      <th>previous</th>\n",
       "      <th>poutcome</th>\n",
       "      <th>emp.var.rate</th>\n",
       "      <th>cons.price.idx</th>\n",
       "      <th>cons.conf.idx</th>\n",
       "      <th>euribor3m</th>\n",
       "      <th>nr.employed</th>\n",
       "      <th>y</th>\n",
       "    </tr>\n",
       "  </thead>\n",
       "  <tbody>\n",
       "    <tr>\n",
       "      <th>0</th>\n",
       "      <td>56</td>\n",
       "      <td>housemaid</td>\n",
       "      <td>married</td>\n",
       "      <td>basic.4y</td>\n",
       "      <td>no</td>\n",
       "      <td>no</td>\n",
       "      <td>no</td>\n",
       "      <td>telephone</td>\n",
       "      <td>may</td>\n",
       "      <td>mon</td>\n",
       "      <td>...</td>\n",
       "      <td>1</td>\n",
       "      <td>999</td>\n",
       "      <td>0</td>\n",
       "      <td>nonexistent</td>\n",
       "      <td>1.1</td>\n",
       "      <td>93.994</td>\n",
       "      <td>-36.4</td>\n",
       "      <td>4.857</td>\n",
       "      <td>5191.0</td>\n",
       "      <td>no</td>\n",
       "    </tr>\n",
       "    <tr>\n",
       "      <th>1</th>\n",
       "      <td>57</td>\n",
       "      <td>services</td>\n",
       "      <td>married</td>\n",
       "      <td>high.school</td>\n",
       "      <td>unknown</td>\n",
       "      <td>no</td>\n",
       "      <td>no</td>\n",
       "      <td>telephone</td>\n",
       "      <td>may</td>\n",
       "      <td>mon</td>\n",
       "      <td>...</td>\n",
       "      <td>1</td>\n",
       "      <td>999</td>\n",
       "      <td>0</td>\n",
       "      <td>nonexistent</td>\n",
       "      <td>1.1</td>\n",
       "      <td>93.994</td>\n",
       "      <td>-36.4</td>\n",
       "      <td>4.857</td>\n",
       "      <td>5191.0</td>\n",
       "      <td>no</td>\n",
       "    </tr>\n",
       "    <tr>\n",
       "      <th>2</th>\n",
       "      <td>37</td>\n",
       "      <td>services</td>\n",
       "      <td>married</td>\n",
       "      <td>high.school</td>\n",
       "      <td>no</td>\n",
       "      <td>yes</td>\n",
       "      <td>no</td>\n",
       "      <td>telephone</td>\n",
       "      <td>may</td>\n",
       "      <td>mon</td>\n",
       "      <td>...</td>\n",
       "      <td>1</td>\n",
       "      <td>999</td>\n",
       "      <td>0</td>\n",
       "      <td>nonexistent</td>\n",
       "      <td>1.1</td>\n",
       "      <td>93.994</td>\n",
       "      <td>-36.4</td>\n",
       "      <td>4.857</td>\n",
       "      <td>5191.0</td>\n",
       "      <td>no</td>\n",
       "    </tr>\n",
       "    <tr>\n",
       "      <th>3</th>\n",
       "      <td>40</td>\n",
       "      <td>admin.</td>\n",
       "      <td>married</td>\n",
       "      <td>basic.6y</td>\n",
       "      <td>no</td>\n",
       "      <td>no</td>\n",
       "      <td>no</td>\n",
       "      <td>telephone</td>\n",
       "      <td>may</td>\n",
       "      <td>mon</td>\n",
       "      <td>...</td>\n",
       "      <td>1</td>\n",
       "      <td>999</td>\n",
       "      <td>0</td>\n",
       "      <td>nonexistent</td>\n",
       "      <td>1.1</td>\n",
       "      <td>93.994</td>\n",
       "      <td>-36.4</td>\n",
       "      <td>4.857</td>\n",
       "      <td>5191.0</td>\n",
       "      <td>no</td>\n",
       "    </tr>\n",
       "    <tr>\n",
       "      <th>4</th>\n",
       "      <td>56</td>\n",
       "      <td>services</td>\n",
       "      <td>married</td>\n",
       "      <td>high.school</td>\n",
       "      <td>no</td>\n",
       "      <td>no</td>\n",
       "      <td>yes</td>\n",
       "      <td>telephone</td>\n",
       "      <td>may</td>\n",
       "      <td>mon</td>\n",
       "      <td>...</td>\n",
       "      <td>1</td>\n",
       "      <td>999</td>\n",
       "      <td>0</td>\n",
       "      <td>nonexistent</td>\n",
       "      <td>1.1</td>\n",
       "      <td>93.994</td>\n",
       "      <td>-36.4</td>\n",
       "      <td>4.857</td>\n",
       "      <td>5191.0</td>\n",
       "      <td>no</td>\n",
       "    </tr>\n",
       "  </tbody>\n",
       "</table>\n",
       "<p>5 rows × 21 columns</p>\n",
       "</div>"
      ],
      "text/plain": [
       "   age        job  marital    education  default housing loan    contact  \\\n",
       "0   56  housemaid  married     basic.4y       no      no   no  telephone   \n",
       "1   57   services  married  high.school  unknown      no   no  telephone   \n",
       "2   37   services  married  high.school       no     yes   no  telephone   \n",
       "3   40     admin.  married     basic.6y       no      no   no  telephone   \n",
       "4   56   services  married  high.school       no      no  yes  telephone   \n",
       "\n",
       "  month day_of_week  ...  campaign  pdays  previous     poutcome emp.var.rate  \\\n",
       "0   may         mon  ...         1    999         0  nonexistent          1.1   \n",
       "1   may         mon  ...         1    999         0  nonexistent          1.1   \n",
       "2   may         mon  ...         1    999         0  nonexistent          1.1   \n",
       "3   may         mon  ...         1    999         0  nonexistent          1.1   \n",
       "4   may         mon  ...         1    999         0  nonexistent          1.1   \n",
       "\n",
       "   cons.price.idx  cons.conf.idx  euribor3m  nr.employed   y  \n",
       "0          93.994          -36.4      4.857       5191.0  no  \n",
       "1          93.994          -36.4      4.857       5191.0  no  \n",
       "2          93.994          -36.4      4.857       5191.0  no  \n",
       "3          93.994          -36.4      4.857       5191.0  no  \n",
       "4          93.994          -36.4      4.857       5191.0  no  \n",
       "\n",
       "[5 rows x 21 columns]"
      ]
     },
     "execution_count": 65,
     "metadata": {},
     "output_type": "execute_result"
    }
   ],
   "source": [
    "df = pd.read_csv(\"bank-additional/bank-additional/bank-additional-full.csv\", sep=\";\")\n",
    "\n",
    "# on va regarder les infos de l'aperçu général\n",
    "df.shape\n",
    "df.info()\n",
    "df.head()"
   ]
  },
  {
   "cell_type": "code",
   "execution_count": 66,
   "id": "73bed2be",
   "metadata": {},
   "outputs": [
    {
     "data": {
      "text/plain": [
       "default           8597\n",
       "education         1731\n",
       "housing            990\n",
       "loan               990\n",
       "job                330\n",
       "marital             80\n",
       "age                  0\n",
       "contact              0\n",
       "month                0\n",
       "day_of_week          0\n",
       "duration             0\n",
       "campaign             0\n",
       "pdays                0\n",
       "previous             0\n",
       "poutcome             0\n",
       "emp.var.rate         0\n",
       "cons.price.idx       0\n",
       "cons.conf.idx        0\n",
       "euribor3m            0\n",
       "nr.employed          0\n",
       "y                    0\n",
       "dtype: int64"
      ]
     },
     "execution_count": 66,
     "metadata": {},
     "output_type": "execute_result"
    }
   ],
   "source": [
    "(df == \"unknown\").sum().sort_values(ascending=False)"
   ]
  },
  {
   "cell_type": "code",
   "execution_count": 67,
   "id": "927dcf7b",
   "metadata": {},
   "outputs": [
    {
     "name": "stdout",
     "output_type": "stream",
     "text": [
      "\n",
      "Variables avec outliers potentiels (Z-score > 3) :\n",
      "age : 369 valeurs extrêmes (0.90%)\n",
      "duration : 861 valeurs extrêmes (2.09%)\n",
      "campaign : 869 valeurs extrêmes (2.11%)\n",
      "pdays : 1515 valeurs extrêmes (3.68%)\n",
      "previous : 1064 valeurs extrêmes (2.58%)\n"
     ]
    }
   ],
   "source": [
    "numerical_cols = df.select_dtypes(include=['int64', 'float64']).columns.drop('y', errors='ignore')\n",
    "\n",
    "print(\"\\nVariables avec outliers potentiels (Z-score > 3) :\")\n",
    "outlier_counts = {}\n",
    "for col in numerical_cols:\n",
    "    z = zscore(df[col])\n",
    "    outliers = (abs(z) > 3).sum()\n",
    "    if outliers > 0:\n",
    "        outlier_counts[col] = outliers\n",
    "        print(f\"{col} : {outliers} valeurs extrêmes ({outliers / len(df) * 100:.2f}%)\")\n"
   ]
  },
  {
   "cell_type": "code",
   "execution_count": 68,
   "id": "cdf1646c",
   "metadata": {},
   "outputs": [],
   "source": [
    "\n",
    "df['duration_log'] = np.log1p(df['duration'])   \n",
    "df['campaign_log'] = np.log1p(df['campaign'])   \n"
   ]
  },
  {
   "cell_type": "code",
   "execution_count": 77,
   "id": "37b2a714",
   "metadata": {},
   "outputs": [],
   "source": [
    "df['pdays_was_contacted'] = df['pdays'].apply(lambda x: 0 if x == 999 else 1)\n"
   ]
  },
  {
   "cell_type": "markdown",
   "id": "633b46a6",
   "metadata": {},
   "source": [
    "D'apres la ligne du code précedente on remarque que  certain variables catégorielles continnent des valeurs \"Unknow\"  ce qui montrent des missing values \n",
    "mais ce n'est pas grace car d'apres le site ou on a extrait la data set on peut la considerer comme catégories\n"
   ]
  },
  {
   "cell_type": "code",
   "execution_count": 69,
   "id": "f72860b4",
   "metadata": {},
   "outputs": [],
   "source": [
    "y_counts = df['y'].value_counts()\n"
   ]
  },
  {
   "cell_type": "code",
   "execution_count": 70,
   "id": "60c51b69",
   "metadata": {},
   "outputs": [
    {
     "data": {
      "image/png": "[encoded data removed]",
      "text/plain": [
       "<Figure size 600x600 with 1 Axes>"
      ]
     },
     "metadata": {},
     "output_type": "display_data"
    }
   ],
   "source": [
    "\n",
    "\n",
    "colors = ['lightcoral', 'mediumseagreen']\n",
    "labels = ['No (0)', 'Yes (1)']\n",
    "\n",
    "# Tracer le camembert\n",
    "plt.figure(figsize=(6,6))\n",
    "plt.pie(y_counts.values, labels=labels, autopct='%1.1f%%', startangle=90, colors=colors)\n",
    "plt.title(\"Répartition de la variable cible (y)\")\n",
    "plt.axis('equal')  # Pour un cercle parfait\n",
    "plt.show()\n"
   ]
  },
  {
   "cell_type": "markdown",
   "id": "f3d61288",
   "metadata": {},
   "source": [
    "- La grande majorité des clients ont répondu **\"no\"**\n",
    "- Seule une **petite proportion** (~11%) a souscrit à l’offre\n",
    "- Vu que les  yes sont beaucoup plus faible que les non ce resultat faut le prendre en compte et faire car si on entraine un modèle de classification sans faire on aura un modèle qui pourrait tout prèdire en non "
   ]
  },
  {
   "cell_type": "code",
   "execution_count": 71,
   "id": "999e3518",
   "metadata": {},
   "outputs": [
    {
     "data": {
      "text/plain": [
       "<Axes: xlabel='poutcome', ylabel='y'>"
      ]
     },
     "execution_count": 71,
     "metadata": {},
     "output_type": "execute_result"
    },
    {
     "data": {
      "image/png": "[encoded data removed]",
      "text/plain": [
       "<Figure size 640x480 with 1 Axes>"
      ]
     },
     "metadata": {},
     "output_type": "display_data"
    }
   ],
   "source": [
    "sns.barplot(x='poutcome', y='y', data=df)\n"
   ]
  },
  {
   "cell_type": "markdown",
   "id": "f11feb0d",
   "metadata": {},
   "source": [
    "On remarque que les résultat de la campagne marketing précédente influence sur la décision des clients "
   ]
  },
  {
   "cell_type": "code",
   "execution_count": 72,
   "id": "adfd424e",
   "metadata": {},
   "outputs": [
    {
     "data": {
      "text/plain": [
       "<Axes: xlabel='contact', ylabel='y'>"
      ]
     },
     "execution_count": 72,
     "metadata": {},
     "output_type": "execute_result"
    },
    {
     "data": {
      "image/png": "[encoded data removed]",
      "text/plain": [
       "<Figure size 640x480 with 1 Axes>"
      ]
     },
     "metadata": {},
     "output_type": "display_data"
    }
   ],
   "source": [
    "sns.barplot(x='contact', y='y', data=df)\n"
   ]
  },
  {
   "cell_type": "markdown",
   "id": "93dd1813",
   "metadata": {},
   "source": [
    "\n",
    "Ici on remarque que les appeles telephoniques via un téléphone portable ont un taux d'influence sur la decision ou on peut dire un taux de résusite beaucoup plus efficace que les appels via un téléphone fixe"
   ]
  },
  {
   "cell_type": "markdown",
   "id": "cebaad15",
   "metadata": {},
   "source": [
    "#############################################################################\n"
   ]
  },
  {
   "cell_type": "code",
   "execution_count": 73,
   "id": "6006518b",
   "metadata": {},
   "outputs": [
    {
     "data": {
      "text/plain": [
       "<Axes: xlabel='month', ylabel='y'>"
      ]
     },
     "execution_count": 73,
     "metadata": {},
     "output_type": "execute_result"
    },
    {
     "data": {
      "image/png": "[encoded data removed]",
      "text/plain": [
       "<Figure size 640x480 with 1 Axes>"
      ]
     },
     "metadata": {},
     "output_type": "display_data"
    }
   ],
   "source": [
    "sns.barplot(x='month', y='y', data=df, order=['jan','feb','mar','apr','may','jun','jul','aug','sep','oct','nov','dec'])\n"
   ]
  },
  {
   "cell_type": "markdown",
   "id": "f0f0ec72",
   "metadata": {},
   "source": [
    "D’après ce graphique, on remarque immédiatement que certains mois de l’année sont beaucoup plus efficaces, notamment mars, septembre et décembre, où le taux de souscription est nettement plus élevé.\n",
    "À l’inverse, des mois comme juin et juillet présentent des taux de réussite très faibles.\n",
    "On peut donc en conclure que les campagnes menées pendant l’été sont globalement moins performantes que celles réalisées à d'autres périodes de l’année."
   ]
  },
  {
   "cell_type": "markdown",
   "id": "ee524acb",
   "metadata": {},
   "source": [
    "################################################################"
   ]
  },
  {
   "cell_type": "code",
   "execution_count": 74,
   "id": "0cc32e09",
   "metadata": {},
   "outputs": [
    {
     "data": {
      "text/plain": [
       "([0, 1, 2, 3, 4, 5, 6, 7, 8, 9, 10, 11],\n",
       " [Text(0, 0, 'housemaid'),\n",
       "  Text(1, 0, 'services'),\n",
       "  Text(2, 0, 'admin.'),\n",
       "  Text(3, 0, 'blue-collar'),\n",
       "  Text(4, 0, 'technician'),\n",
       "  Text(5, 0, 'retired'),\n",
       "  Text(6, 0, 'management'),\n",
       "  Text(7, 0, 'unemployed'),\n",
       "  Text(8, 0, 'self-employed'),\n",
       "  Text(9, 0, 'unknown'),\n",
       "  Text(10, 0, 'entrepreneur'),\n",
       "  Text(11, 0, 'student')])"
      ]
     },
     "execution_count": 74,
     "metadata": {},
     "output_type": "execute_result"
    },
    {
     "data": {
      "image/png": "[encoded data removed]",
      "text/plain": [
       "<Figure size 1000x400 with 1 Axes>"
      ]
     },
     "metadata": {},
     "output_type": "display_data"
    }
   ],
   "source": [
    "plt.figure(figsize=(10,4))\n",
    "sns.barplot(x='job', y='y', data=df)\n",
    "plt.xticks(rotation=45)\n"
   ]
  },
  {
   "cell_type": "markdown",
   "id": "dd0b18e8",
   "metadata": {},
   "source": [
    "Certains métiers ont des taux de souscription plus élevés :\n",
    "\n",
    "Ex : retired, student, admin. → plus enclins à souscrire"
   ]
  },
  {
   "cell_type": "markdown",
   "id": "823bbe86",
   "metadata": {},
   "source": [
    "#############################################################################\n"
   ]
  },
  {
   "cell_type": "code",
   "execution_count": 75,
   "id": "d69d1473",
   "metadata": {},
   "outputs": [
    {
     "data": {
      "text/plain": [
       "<Axes: xlabel='age_group', ylabel='y'>"
      ]
     },
     "execution_count": 75,
     "metadata": {},
     "output_type": "execute_result"
    },
    {
     "data": {
      "image/png": "[encoded data removed]",
      "text/plain": [
       "<Figure size 640x480 with 1 Axes>"
      ]
     },
     "metadata": {},
     "output_type": "display_data"
    }
   ],
   "source": [
    "df['age_group'] = pd.cut(df['age'], bins=[17, 25, 35, 50, 65, 100], \n",
    "                         labels=['18-25', '26-35', '36-50', '51-65', '65+'])\n",
    "sns.barplot(x='age_group', y='y', data=df)\n"
   ]
  },
  {
   "cell_type": "markdown",
   "id": "d1d8cf46",
   "metadata": {},
   "source": [
    "L’âge influence aussi la probabilité de souscription Tu peux regrouper par tranches d'âge on remarque que les retraités sont plus intérser par la souscription "
   ]
  },
  {
   "cell_type": "code",
   "execution_count": 76,
   "id": "7ae05ccf",
   "metadata": {},
   "outputs": [
    {
     "data": {
      "text/plain": [
       "<Axes: xlabel='age_group', ylabel='y'>"
      ]
     },
     "execution_count": 76,
     "metadata": {},
     "output_type": "execute_result"
    },
    {
     "data": {
      "image/png": "[encoded data removed]",
      "text/plain": [
       "<Figure size 640x480 with 1 Axes>"
      ]
     },
     "metadata": {},
     "output_type": "display_data"
    }
   ],
   "source": [
    "df['age_group'] = pd.cut(df['age'], bins=[17, 25, 35, 50, 65, 100], \n",
    "                         labels=['18-25', '26-35', '36-50', '51-65', '65+'])\n",
    "sns.barplot(x='age_group', y='y', data=df)\n"
   ]
  }
 ],
 "metadata": {
  "kernelspec": {
   "display_name": "venv",
   "language": "python",
   "name": "python3"
  },
  "language_info": {
   "codemirror_mode": {
    "name": "ipython",
    "version": 3
   },
   "file_extension": ".py",
   "mimetype": "text/x-python",
   "name": "python",
   "nbconvert_exporter": "python",
   "pygments_lexer": "ipython3",
   "version": "3.12.7"
  }
 },
 "nbformat": 4,
 "nbformat_minor": 5
}
